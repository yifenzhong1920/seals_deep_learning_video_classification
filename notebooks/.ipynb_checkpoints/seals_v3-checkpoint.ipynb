{
 "cells": [
  {
   "cell_type": "markdown",
   "metadata": {},
   "source": [
    "# Setup"
   ]
  },
  {
   "cell_type": "markdown",
   "metadata": {},
   "source": [
    "## imports"
   ]
  },
  {
   "cell_type": "markdown",
   "metadata": {},
   "source": [
    "for model"
   ]
  },
  {
   "cell_type": "code",
   "execution_count": 1,
   "metadata": {
    "ExecuteTime": {
     "end_time": "2018-06-29T01:23:23.818637Z",
     "start_time": "2018-06-29T01:23:09.723953Z"
    }
   },
   "outputs": [
    {
     "name": "stderr",
     "output_type": "stream",
     "text": [
      "Using TensorFlow backend.\n"
     ]
    }
   ],
   "source": [
    "# VGG\n",
    "from keras import applications\n",
    "from keras.preprocessing.image import ImageDataGenerator\n",
    "from keras import optimizers\n",
    "from keras.models import Sequential\n",
    "from keras.layers import Dropout, Flatten, Dense\n",
    "from keras.preprocessing import image\n",
    "from keras.applications.vgg16 import preprocess_input\n",
    "from keras.callbacks import ModelCheckpoint"
   ]
  },
  {
   "cell_type": "code",
   "execution_count": 2,
   "metadata": {
    "ExecuteTime": {
     "end_time": "2018-06-29T01:23:23.824836Z",
     "start_time": "2018-06-29T01:23:23.820304Z"
    },
    "collapsed": true
   },
   "outputs": [],
   "source": [
    "# RESNET\n",
    "from keras.applications import ResNet50\n",
    "from keras.models import Model\n",
    "from keras.layers import Dense, Conv2D, BatchNormalization, Activation, Flatten\n",
    "from keras.layers.pooling import GlobalMaxPool2D, GlobalAveragePooling2D\n",
    "from keras.optimizers import SGD, Adam\n",
    "from keras.applications.resnet50 import decode_predictions"
   ]
  },
  {
   "cell_type": "code",
   "execution_count": 3,
   "metadata": {
    "ExecuteTime": {
     "end_time": "2018-06-29T01:23:23.832500Z",
     "start_time": "2018-06-29T01:23:23.827231Z"
    },
    "collapsed": true
   },
   "outputs": [],
   "source": [
    "from keras.applications import Xception"
   ]
  },
  {
   "cell_type": "code",
   "execution_count": 4,
   "metadata": {
    "ExecuteTime": {
     "end_time": "2018-06-29T01:23:23.839291Z",
     "start_time": "2018-06-29T01:23:23.834910Z"
    },
    "collapsed": true
   },
   "outputs": [],
   "source": [
    "from keras import backend as K\n",
    "K.set_image_dim_ordering('tf') # for Xception\n",
    "# K.set_image_dim_ordering('th') # for ResNet"
   ]
  },
  {
   "cell_type": "markdown",
   "metadata": {},
   "source": [
    "for plotting and misc"
   ]
  },
  {
   "cell_type": "code",
   "execution_count": 5,
   "metadata": {
    "ExecuteTime": {
     "end_time": "2018-06-29T01:23:24.241331Z",
     "start_time": "2018-06-29T01:23:23.841648Z"
    },
    "collapsed": true
   },
   "outputs": [],
   "source": [
    "# setup matplotlib to display plots in the notebook\n",
    "%matplotlib inline\n",
    "\n",
    "# third party imports\n",
    "import pandas as pd\n",
    "import numpy as np\n",
    "import matplotlib.pyplot as plt\n",
    "import seaborn as sns\n",
    "\n",
    "# setup display options\n",
    "pd.options.display.max_rows = 200\n",
    "pd.options.display.float_format = '{:,.5g}'.format\n",
    "np.set_printoptions(precision=5, suppress=False)\n",
    "\n",
    "# setup seaborn to use matplotlib defaults & styles\n",
    "sns.set()\n",
    "sns.set(font_scale=1.2)\n",
    "sns.set_style(\"whitegrid\", {'axes.grid' : False})\n",
    "\n",
    "import os\n",
    "import sys\n",
    "import time"
   ]
  },
  {
   "cell_type": "markdown",
   "metadata": {},
   "source": [
    "## paths"
   ]
  },
  {
   "cell_type": "code",
   "execution_count": 203,
   "metadata": {
    "ExecuteTime": {
     "end_time": "2018-06-29T02:24:54.302120Z",
     "start_time": "2018-06-29T02:24:54.293755Z"
    }
   },
   "outputs": [
    {
     "data": {
      "text/plain": [
       "('/mnt/data/seals/data/more_jun/train/',\n",
       " '/mnt/data/seals/data/more_jun/valid/',\n",
       " '/mnt/data/seals/data/more_jun/test/')"
      ]
     },
     "execution_count": 203,
     "metadata": {},
     "output_type": "execute_result"
    }
   ],
   "source": [
    "# pwd = '/mnt/data/seals/'\n",
    "pwd = '/mnt/data/seals/'\n",
    "\n",
    "path_models = pwd + 'models/'\n",
    "# for previewing data augmentation output:\n",
    "path_preview = pwd + 'data/preview/' \n",
    "\n",
    "# path_data = pwd + 'data/images/'\n",
    "path_data = pwd + 'data/more_jun/'\n",
    "#path_data = pwd + 'data/images_blurred/'\n",
    "\n",
    "path_data_train = path_data +'train/'\n",
    "path_data_valid = path_data +'valid/'\n",
    "path_data_test = path_data +'test/'\n",
    "# output\n",
    "path_data_train, path_data_valid, path_data_test"
   ]
  },
  {
   "cell_type": "markdown",
   "metadata": {},
   "source": [
    "## setup image size"
   ]
  },
  {
   "cell_type": "code",
   "execution_count": 188,
   "metadata": {
    "ExecuteTime": {
     "end_time": "2018-06-29T02:19:32.718023Z",
     "start_time": "2018-06-29T02:19:32.714622Z"
    },
    "collapsed": true
   },
   "outputs": [],
   "source": [
    "# dimension our images will be rescaled to (default size for VGG)\n",
    "img_width, img_height = 299, 299"
   ]
  },
  {
   "cell_type": "markdown",
   "metadata": {},
   "source": [
    "# View some of the data"
   ]
  },
  {
   "cell_type": "code",
   "execution_count": 181,
   "metadata": {
    "ExecuteTime": {
     "end_time": "2018-06-29T02:19:04.586840Z",
     "start_time": "2018-06-29T02:19:04.583315Z"
    },
    "collapsed": true
   },
   "outputs": [],
   "source": [
    "def plotimg(imgpath):\n",
    "    img= plt.imread(imgpath)\n",
    "    imgplot = plt.imshow(img)"
   ]
  },
  {
   "cell_type": "code",
   "execution_count": 182,
   "metadata": {
    "ExecuteTime": {
     "end_time": "2018-06-29T02:19:04.745880Z",
     "start_time": "2018-06-29T02:19:04.732999Z"
    },
    "collapsed": true
   },
   "outputs": [],
   "source": [
    "def plot_pic_grid(path, filenames, add_title=True):\n",
    "    # set figsize\n",
    "    fig = plt.figure()\n",
    "    fig.set_size_inches((16,8))\n",
    "\n",
    "    plotted = 0\n",
    "\n",
    "    for c, r in enumerate(filenames):\n",
    "\n",
    "        # get path to image file \n",
    "        img_path_on_disk = path + r\n",
    "\n",
    "        if len(img_path_on_disk) > 0:    \n",
    "\n",
    "            if plotted < 10:\n",
    "\n",
    "                plotted+=1\n",
    "\n",
    "                # plotting 10 images\n",
    "                a = fig.add_subplot(2, 5, (plotted))\n",
    "                img= plt.imread(img_path_on_disk)\n",
    "                imgplot = a.imshow(img)\n",
    "                if add_title: \n",
    "                    a.set_title(r)\n",
    "\n",
    "                #print user_id, 'image plotted'\n",
    "        else:\n",
    "            # print user_id, 'no pic available'\n",
    "            pass"
   ]
  },
  {
   "cell_type": "code",
   "execution_count": 183,
   "metadata": {
    "ExecuteTime": {
     "end_time": "2018-06-29T02:19:04.900918Z",
     "start_time": "2018-06-29T02:19:04.882774Z"
    }
   },
   "outputs": [
    {
     "ename": "FileNotFoundError",
     "evalue": "[Errno 2] No such file or directory: 'mnt/data/seals/data/more_jun/train/seal/'",
     "output_type": "error",
     "traceback": [
      "\u001b[0;31m---------------------------------------------------------------------------\u001b[0m",
      "\u001b[0;31mFileNotFoundError\u001b[0m                         Traceback (most recent call last)",
      "\u001b[0;32m<ipython-input-183-c71db11435f8>\u001b[0m in \u001b[0;36m<module>\u001b[0;34m()\u001b[0m\n\u001b[0;32m----> 1\u001b[0;31m \u001b[0mplot_pic_grid\u001b[0m\u001b[0;34m(\u001b[0m\u001b[0mpath_data_train\u001b[0m \u001b[0;34m+\u001b[0m \u001b[0;34m'/seal/'\u001b[0m\u001b[0;34m,\u001b[0m \u001b[0mos\u001b[0m\u001b[0;34m.\u001b[0m\u001b[0mlistdir\u001b[0m\u001b[0;34m(\u001b[0m\u001b[0mpath_data_train\u001b[0m \u001b[0;34m+\u001b[0m \u001b[0;34m'seal/'\u001b[0m\u001b[0;34m)\u001b[0m\u001b[0;34m[\u001b[0m\u001b[0;34m:\u001b[0m\u001b[0;36m10\u001b[0m\u001b[0;34m]\u001b[0m\u001b[0;34m)\u001b[0m\u001b[0;34m\u001b[0m\u001b[0m\n\u001b[0m",
      "\u001b[0;31mFileNotFoundError\u001b[0m: [Errno 2] No such file or directory: 'mnt/data/seals/data/more_jun/train/seal/'"
     ]
    }
   ],
   "source": [
    "plot_pic_grid(path_data_train + '/seal/', os.listdir(path_data_train + 'seal/')[:10])"
   ]
  },
  {
   "cell_type": "markdown",
   "metadata": {},
   "source": [
    "# Prepare Data"
   ]
  },
  {
   "cell_type": "markdown",
   "metadata": {},
   "source": [
    "## Create train/test split"
   ]
  },
  {
   "cell_type": "markdown",
   "metadata": {},
   "source": [
    "> only run the below once - it creates the train / valid / test splits given just /train/ in data folder"
   ]
  },
  {
   "cell_type": "code",
   "execution_count": 166,
   "metadata": {
    "ExecuteTime": {
     "end_time": "2018-06-29T02:17:17.304285Z",
     "start_time": "2018-06-29T02:17:17.257878Z"
    },
    "scrolled": true
   },
   "outputs": [
    {
     "ename": "FileNotFoundError",
     "evalue": "[Errno 2] No such file or directory: 'mnt/data/seals/data/data/more_jan/train/'",
     "output_type": "error",
     "traceback": [
      "\u001b[0;31m---------------------------------------------------------------------------\u001b[0m",
      "\u001b[0;31mFileNotFoundError\u001b[0m                         Traceback (most recent call last)",
      "\u001b[0;32m<ipython-input-166-82c947aca398>\u001b[0m in \u001b[0;36m<module>\u001b[0;34m()\u001b[0m\n\u001b[1;32m     13\u001b[0m \u001b[0;34m\u001b[0m\u001b[0m\n\u001b[1;32m     14\u001b[0m     \u001b[0;31m# first get list of subdirectories (these are the image class names)\u001b[0m\u001b[0;34m\u001b[0m\u001b[0;34m\u001b[0m\u001b[0m\n\u001b[0;32m---> 15\u001b[0;31m     \u001b[0mfolders\u001b[0m \u001b[0;34m=\u001b[0m \u001b[0mos\u001b[0m\u001b[0;34m.\u001b[0m\u001b[0mlistdir\u001b[0m\u001b[0;34m(\u001b[0m\u001b[0mpath_data_train\u001b[0m\u001b[0;34m)\u001b[0m\u001b[0;34m\u001b[0m\u001b[0m\n\u001b[0m\u001b[1;32m     16\u001b[0m \u001b[0;34m\u001b[0m\u001b[0m\n\u001b[1;32m     17\u001b[0m     \u001b[0;31m# remove .DS_Store artefact - just want actual class names in list\u001b[0m\u001b[0;34m\u001b[0m\u001b[0;34m\u001b[0m\u001b[0m\n",
      "\u001b[0;31mFileNotFoundError\u001b[0m: [Errno 2] No such file or directory: 'mnt/data/seals/data/data/more_jan/train/'"
     ]
    }
   ],
   "source": [
    "import random\n",
    "\n",
    "create_train_test = True\n",
    "\n",
    "# define val & test split sizes\n",
    "val_pct = 0.10\n",
    "test_pct = 0.005\n",
    "\n",
    "# move (val_pct)% of each class from train to validation folder\n",
    "# move (test_pct)% of each class from train to test folder\n",
    "\n",
    "if create_train_test:\n",
    "    \n",
    "    # first get list of subdirectories (these are the image class names)\n",
    "    folders = os.listdir(path_data_train)\n",
    "    \n",
    "    # remove .DS_Store artefact - just want actual class names in list\n",
    "    folders = [f for f in folders if not f.startswith('.')]\n",
    "               \n",
    "    for fo in folders:\n",
    "        print (fo, len(folders))\n",
    "        \n",
    "        files = os.listdir(path_data_train + fo)\n",
    "        files = [fi for fi in files if not fi.startswith('.')]\n",
    "\n",
    "        # create class folder in /data/valid/ if doesn't already exist\n",
    "        if not os.path.exists(path_data_valid + fo):\n",
    "            os.makedirs(path_data_valid + fo)\n",
    "        \n",
    "        train_count = len(files)\n",
    "        val_count = int(train_count * val_pct)\n",
    "        test_count = int(train_count * test_pct / len(folders)) #uniformly sample for test\n",
    "\n",
    "        # > move validation\n",
    "        print ('move valid')\n",
    "        # select random val_pct% subset of images in this class and move to validation path\n",
    "        subset = random.sample(files, val_count)\n",
    "        #\n",
    "        for s in subset:\n",
    "            os.rename(path_data_train + fo + \"/\" + s, path_data_valid + fo + \"/\" + s)\n",
    "               \n",
    "\n",
    "        # create class folder in /data/test/ if doesn't already exist\n",
    "        if not os.path.exists(path_data_test):\n",
    "            os.makedirs(path_data_test)\n",
    "            os.makedirs(path_data_test + 'unknown/')\n",
    "\n",
    "        # > move test         \n",
    "        print ('move test')\n",
    "        files = os.listdir(path_data_train + fo)\n",
    "        subset = random.sample(files, test_count)\n",
    "        #\n",
    "        for s in subset:\n",
    "            os.rename(path_data_train + fo + \"/\" + s, path_data_test + \"unknown/\" + s)\n",
    "    \n",
    "    print ('done')"
   ]
  },
  {
   "cell_type": "code",
   "execution_count": null,
   "metadata": {
    "ExecuteTime": {
     "end_time": "2018-04-09T05:11:47.774047Z",
     "start_time": "2018-04-09T05:11:47.767885Z"
    }
   },
   "outputs": [],
   "source": [
    "path_data_test"
   ]
  },
  {
   "cell_type": "markdown",
   "metadata": {
    "heading_collapsed": true
   },
   "source": [
    "## create sample dataset for faster dev"
   ]
  },
  {
   "cell_type": "code",
   "execution_count": null,
   "metadata": {
    "ExecuteTime": {
     "end_time": "2018-04-09T05:11:47.793506Z",
     "start_time": "2018-04-09T05:11:47.776401Z"
    },
    "collapsed": true,
    "hidden": true
   },
   "outputs": [],
   "source": [
    "create_sample = False\n",
    "\n",
    "# keep 10% of images in each folder\n",
    "sample_pct = 0.1\n",
    "\n",
    "if create_sample:\n",
    "    for root, subdirs, files in os.walk(path_data_sample):\n",
    "        print (root)\n",
    "        \n",
    "        target_folder = root\n",
    "        delete_pct = 1 - sample_pct\n",
    "            # get files in folder\n",
    "        files = os.listdir(target_folder)\n",
    "        files = [fi for fi in files if not fi.startswith('.')]\n",
    "        files = [target_folder + '/' + f for f in files]\n",
    "\n",
    "        # get count of files to delete\n",
    "        delete_count = int(len(files) * delete_pct)\n",
    "\n",
    "        # get subset\n",
    "        subset = random.sample(files, delete_count)\n",
    "\n",
    "        # delete files in subset\n",
    "        for s in subset:\n",
    "            if not os.path.isdir(s):\n",
    "                os.remove(s)"
   ]
  },
  {
   "cell_type": "markdown",
   "metadata": {},
   "source": [
    "## view counts"
   ]
  },
  {
   "cell_type": "code",
   "execution_count": 139,
   "metadata": {
    "ExecuteTime": {
     "end_time": "2018-06-29T02:15:12.543094Z",
     "start_time": "2018-06-29T02:15:12.537861Z"
    }
   },
   "outputs": [
    {
     "data": {
      "text/plain": [
       "'mnt/data/seals/more_jun/data/images/train/'"
      ]
     },
     "execution_count": 139,
     "metadata": {},
     "output_type": "execute_result"
    }
   ],
   "source": [
    "path_data_train\n"
   ]
  },
  {
   "cell_type": "code",
   "execution_count": 204,
   "metadata": {
    "ExecuteTime": {
     "end_time": "2018-06-29T02:25:03.295011Z",
     "start_time": "2018-06-29T02:25:02.293664Z"
    }
   },
   "outputs": [
    {
     "name": "stdout",
     "output_type": "stream",
     "text": [
      "train\n",
      "2999\n",
      "6065\n",
      "valid\n",
      "405\n",
      "393\n"
     ]
    }
   ],
   "source": [
    "! echo 'train'\n",
    "! ls -la $path_data_train/seal | wc -l\n",
    "! ls -la $path_data_train/noseal | wc -l\n",
    "! echo 'valid'\n",
    "! ls -la $path_data_valid/seal | wc -l\n",
    "! ls -la $path_data_valid/noseal | wc -l"
   ]
  },
  {
   "cell_type": "markdown",
   "metadata": {
    "collapsed": true
   },
   "source": [
    "# Fine-tune pre-trained CNN Model on Frames"
   ]
  },
  {
   "cell_type": "markdown",
   "metadata": {},
   "source": [
    "https://github.com/raghakot/keras-resnet/blob/master/resnet.py"
   ]
  },
  {
   "cell_type": "code",
   "execution_count": 190,
   "metadata": {
    "ExecuteTime": {
     "end_time": "2018-06-29T02:19:44.109982Z",
     "start_time": "2018-06-29T02:19:44.106550Z"
    },
    "collapsed": true
   },
   "outputs": [],
   "source": [
    "from keras.applications.xception import preprocess_input as preprocess_xception"
   ]
  },
  {
   "cell_type": "markdown",
   "metadata": {},
   "source": [
    "## Setup batches"
   ]
  },
  {
   "cell_type": "code",
   "execution_count": 205,
   "metadata": {
    "ExecuteTime": {
     "end_time": "2018-06-29T02:25:08.147261Z",
     "start_time": "2018-06-29T02:25:08.143623Z"
    },
    "collapsed": true
   },
   "outputs": [],
   "source": [
    "batch_size = 32"
   ]
  },
  {
   "cell_type": "code",
   "execution_count": 206,
   "metadata": {
    "ExecuteTime": {
     "end_time": "2018-06-29T02:25:08.883076Z",
     "start_time": "2018-06-29T02:25:08.878792Z"
    }
   },
   "outputs": [],
   "source": [
    "img_width = 299\n",
    "img_height = 299"
   ]
  },
  {
   "cell_type": "code",
   "execution_count": 207,
   "metadata": {
    "ExecuteTime": {
     "end_time": "2018-06-29T02:25:08.889841Z",
     "start_time": "2018-06-29T02:25:08.885023Z"
    },
    "collapsed": true
   },
   "outputs": [],
   "source": [
    "# define data load generators - apply transformations to distort training images (effectively creates more data)\n",
    "train_gen = ImageDataGenerator(\n",
    "    horizontal_flip=True,\n",
    "    width_shift_range=0.05,\n",
    "    height_shift_range=0.1,\n",
    "    preprocessing_function=preprocess_xception\n",
    ")\n",
    "\n",
    "test_gen = ImageDataGenerator(\n",
    "    preprocessing_function=preprocess_xception\n",
    ")\n",
    "\n",
    "# create objects that allow us to fetch data in batches\n",
    "train_batches = train_gen.flow_from_directory(\n",
    "    path_data_train,\n",
    "    batch_size=batch_size,\n",
    "    target_size = (img_width, img_height),\n",
    "    class_mode='binary'\n",
    ")\n",
    "\n",
    "valid_batches = test_gen.flow_from_directory(\n",
    "    path_data_valid,\n",
    "    batch_size=batch_size,\n",
    "    target_size = (img_width, img_height),\n",
    "    shuffle=False,\n",
    "    class_mode='binary'\n",
    ")\n",
    "\n",
    "test_batches = test_gen.flow_from_directory(\n",
    "    path_data_test,\n",
    "    batch_size=batch_size,\n",
    "    target_size = (img_width, img_height),\n",
    "    shuffle=False,\n",
    "    class_mode='binary'\n",
    ")"
   ]
  },
  {
   "cell_type": "markdown",
   "metadata": {},
   "source": [
    "## setup model"
   ]
  },
  {
   "cell_type": "code",
   "execution_count": 467,
   "metadata": {
    "ExecuteTime": {
     "end_time": "2018-06-29T12:04:33.176686Z",
     "start_time": "2018-06-29T12:04:29.319441Z"
    },
    "collapsed": true
   },
   "outputs": [],
   "source": [
    "base_model = Xception(include_top=False, input_shape=(img_width, img_height, 3))\n",
    "\n",
    "ft_map = base_model.get_layer(index=-2).output\n",
    "\n",
    "x = Conv2D(128, (3,3), padding='same')(ft_map)\n",
    "\n",
    "x = BatchNormalization()(x)\n",
    "x = Activation('relu')(x)\n",
    "x = Conv2D(32, (3,3), activation='sigmoid', padding='same')(x)\n",
    "\n",
    "x = GlobalAveragePooling2D()(x)\n",
    "x = Dense(train_batches.num_class, activation='softmax')(x)\n",
    "\n",
    "\n",
    "model = Model(base_model.input, x)"
   ]
  },
  {
   "cell_type": "code",
   "execution_count": 468,
   "metadata": {
    "ExecuteTime": {
     "end_time": "2018-06-29T12:04:33.181547Z",
     "start_time": "2018-06-29T12:04:33.178459Z"
    },
    "collapsed": true
   },
   "outputs": [],
   "source": [
    "# freeze all the base model layers\n",
    "for layer in base_model.layers:\n",
    "    layer.trainable = False"
   ]
  },
  {
   "cell_type": "code",
   "execution_count": 469,
   "metadata": {
    "ExecuteTime": {
     "end_time": "2018-06-29T12:04:33.222828Z",
     "start_time": "2018-06-29T12:04:33.183272Z"
    },
    "collapsed": true
   },
   "outputs": [],
   "source": [
    "# opt = Adam(0.001)#, momentum=0.9)\n",
    "opt = Adam()\n",
    "model.compile(optimizer=opt, loss='sparse_categorical_crossentropy', metrics=['accuracy'])"
   ]
  },
  {
   "cell_type": "code",
   "execution_count": 470,
   "metadata": {
    "ExecuteTime": {
     "end_time": "2018-06-29T12:04:33.228650Z",
     "start_time": "2018-06-29T12:04:33.224592Z"
    }
   },
   "outputs": [
    {
     "data": {
      "text/plain": [
       "137"
      ]
     },
     "execution_count": 470,
     "metadata": {},
     "output_type": "execute_result"
    }
   ],
   "source": [
    "len(model.layers)"
   ]
  },
  {
   "cell_type": "markdown",
   "metadata": {},
   "source": [
    "## fit (fine-tune) model 1 on our data"
   ]
  },
  {
   "cell_type": "markdown",
   "metadata": {},
   "source": [
    "***NB: Once the model has been trained, it can be loaded instead of training by skipping the train lines below and just running the last load_weights line:***\n",
    "\n",
    "> model.load_weights(path_models + model_name + '_BEST_' + '.hdf5')"
   ]
  },
  {
   "cell_type": "code",
   "execution_count": 471,
   "metadata": {
    "ExecuteTime": {
     "end_time": "2018-06-29T12:04:35.359571Z",
     "start_time": "2018-06-29T12:04:35.356487Z"
    },
    "collapsed": true
   },
   "outputs": [],
   "source": [
    "model_name = 'Xception'"
   ]
  },
  {
   "cell_type": "code",
   "execution_count": 214,
   "metadata": {
    "ExecuteTime": {
     "end_time": "2018-06-29T02:25:13.207598Z",
     "start_time": "2018-06-29T02:25:13.203809Z"
    },
    "collapsed": true
   },
   "outputs": [],
   "source": [
    "# define keras model checkpointer to save best model (highets val_acc)\n",
    "checkpointer = ModelCheckpoint(path_models + model_name + '_BEST_.hdf5', \n",
    "                                monitor='val_acc', \n",
    "                                save_best_only=True,\n",
    "                                save_weights_only=True)"
   ]
  },
  {
   "cell_type": "code",
   "execution_count": 215,
   "metadata": {
    "ExecuteTime": {
     "end_time": "2018-06-29T02:42:37.437883Z",
     "start_time": "2018-06-29T02:25:13.209443Z"
    }
   },
   "outputs": [
    {
     "name": "stdout",
     "output_type": "stream",
     "text": [
      "Epoch 1/5\n",
      "283/283 [==============================] - 212s - loss: 0.3872 - acc: 0.8451 - val_loss: 0.4610 - val_acc: 0.8018\n",
      "Epoch 2/5\n",
      "283/283 [==============================] - 207s - loss: 0.3190 - acc: 0.8802 - val_loss: 0.4829 - val_acc: 0.7904\n",
      "Epoch 3/5\n",
      "283/283 [==============================] - 208s - loss: 0.3016 - acc: 0.8899 - val_loss: 0.3315 - val_acc: 0.8586\n",
      "Epoch 4/5\n",
      "283/283 [==============================] - 208s - loss: 0.2798 - acc: 0.8976 - val_loss: 0.3123 - val_acc: 0.8725\n",
      "Epoch 5/5\n",
      "283/283 [==============================] - 208s - loss: 0.2618 - acc: 0.9055 - val_loss: 0.2849 - val_acc: 0.8801\n"
     ]
    }
   ],
   "source": [
    "history = model.fit_generator(train_batches, \n",
    "                    steps_per_epoch=np.ceil(train_batches.samples/batch_size), \n",
    "#                    epochs=10,                    \n",
    "                    epochs=5,                    \n",
    "                    verbose=1, \n",
    "                    validation_data= valid_batches, \n",
    "                    validation_steps=np.ceil(valid_batches.samples/batch_size),\n",
    "                    callbacks = [checkpointer])"
   ]
  },
  {
   "cell_type": "code",
   "execution_count": 472,
   "metadata": {
    "ExecuteTime": {
     "end_time": "2018-06-29T12:04:37.900147Z",
     "start_time": "2018-06-29T12:04:36.864815Z"
    },
    "collapsed": true
   },
   "outputs": [],
   "source": [
    "# load weights from best epoch (saved by checkpointer)\n",
    "model.load_weights(path_models + model_name + '_BEST_.hdf5')"
   ]
  },
  {
   "cell_type": "code",
   "execution_count": null,
   "metadata": {
    "ExecuteTime": {
     "end_time": "2018-06-29T02:23:25.155744Z",
     "start_time": "2018-06-29T02:22:34.069Z"
    }
   },
   "outputs": [],
   "source": [
    "print (model.metrics_names)\n",
    "model.evaluate_generator(valid_batches, np.ceil(valid_batches.samples/batch_size))"
   ]
  },
  {
   "cell_type": "markdown",
   "metadata": {},
   "source": [
    "## train some more"
   ]
  },
  {
   "cell_type": "code",
   "execution_count": 221,
   "metadata": {
    "ExecuteTime": {
     "end_time": "2018-06-29T02:46:09.372588Z",
     "start_time": "2018-06-29T02:46:09.366599Z"
    },
    "scrolled": false
   },
   "outputs": [],
   "source": [
    "# unfix some later layers and train those (only now after we've trained just the last layer for a while to avoid catastrophic forgetting)\n",
    "model.layers[-7].trainable = True\n",
    "model.layers[-8].trainable = True\n",
    "model.layers[-9].trainable = True\n",
    "model.layers[-10].trainable = True"
   ]
  },
  {
   "cell_type": "code",
   "execution_count": 222,
   "metadata": {
    "ExecuteTime": {
     "end_time": "2018-06-29T02:46:11.829337Z",
     "start_time": "2018-06-29T02:46:11.793713Z"
    },
    "collapsed": true
   },
   "outputs": [],
   "source": [
    "opt = Adam(lr = 0.0001)#, momentum=0.9)\n",
    "model.compile(optimizer=opt, loss='sparse_categorical_crossentropy', metrics=['accuracy'])"
   ]
  },
  {
   "cell_type": "code",
   "execution_count": null,
   "metadata": {
    "ExecuteTime": {
     "start_time": "2018-06-29T02:46:23.358Z"
    }
   },
   "outputs": [
    {
     "name": "stdout",
     "output_type": "stream",
     "text": [
      "Epoch 1/20\n",
      "283/283 [==============================] - 219s - loss: 0.2484 - acc: 0.9106 - val_loss: 0.3227 - val_acc: 0.8662\n",
      "Epoch 2/20\n",
      "283/283 [==============================] - 219s - loss: 0.2296 - acc: 0.9209 - val_loss: 0.3000 - val_acc: 0.8598\n",
      "Epoch 3/20\n",
      "283/283 [==============================] - 220s - loss: 0.2247 - acc: 0.9231 - val_loss: 0.2819 - val_acc: 0.8813\n",
      "Epoch 4/20\n",
      "283/283 [==============================] - 219s - loss: 0.2201 - acc: 0.9259 - val_loss: 0.3375 - val_acc: 0.8598\n",
      "Epoch 5/20\n",
      " 42/283 [===>..........................] - ETA: 171s - loss: 0.1937 - acc: 0.9360"
     ]
    }
   ],
   "source": [
    "history = model.fit_generator(train_batches, \n",
    "                    steps_per_epoch=np.ceil(train_batches.samples/batch_size), \n",
    "                    epochs=20,                    \n",
    "                    verbose=1, \n",
    "                    validation_data= valid_batches, \n",
    "                    validation_steps=np.ceil(valid_batches.samples/batch_size),\n",
    "                    callbacks = [checkpointer])"
   ]
  },
  {
   "cell_type": "markdown",
   "metadata": {},
   "source": [
    "> left this running overnight and didn't keep updating the progress but converged to validation accuracy of 92% - probably wanna re-run for longer and check convergence graphs"
   ]
  },
  {
   "cell_type": "code",
   "execution_count": null,
   "metadata": {
    "ExecuteTime": {
     "start_time": "2018-06-29T02:46:29.215Z"
    },
    "collapsed": true
   },
   "outputs": [],
   "source": [
    "# load best from checkpointer (last epoch may not have been the best one)\n",
    "model.load_weights(path_models + model_name + '_BEST_' + '.hdf5')"
   ]
  },
  {
   "cell_type": "code",
   "execution_count": 228,
   "metadata": {
    "ExecuteTime": {
     "end_time": "2018-06-29T07:16:27.064306Z",
     "start_time": "2018-06-29T07:16:09.287506Z"
    }
   },
   "outputs": [
    {
     "name": "stdout",
     "output_type": "stream",
     "text": [
      "['loss', 'acc']\n"
     ]
    },
    {
     "data": {
      "text/plain": [
       "[0.22130587486305622, 0.92045454545454541]"
      ]
     },
     "execution_count": 228,
     "metadata": {},
     "output_type": "execute_result"
    }
   ],
   "source": [
    "print (model.metrics_names)\n",
    "model.evaluate_generator(valid_batches, np.ceil(valid_batches.samples/batch_size), verbose=2)"
   ]
  },
  {
   "cell_type": "markdown",
   "metadata": {},
   "source": [
    "## demo using model to predict frame"
   ]
  },
  {
   "cell_type": "code",
   "execution_count": 243,
   "metadata": {
    "ExecuteTime": {
     "end_time": "2018-06-29T07:20:53.312284Z",
     "start_time": "2018-06-29T07:20:53.099364Z"
    }
   },
   "outputs": [
    {
     "data": {
      "image/png": "[encoded data removed]",
      "text/plain": [
       "<matplotlib.figure.Figure at 0x7fa68f4bbb00>"
      ]
     },
     "metadata": {},
     "output_type": "display_data"
    }
   ],
   "source": [
    "test_img_path = path_data_train +'seal/' + 's37-3930-00054.jpeg'\n",
    "img = plt.imread(test_img_path)\n",
    "plt.imshow(img)\n",
    "\n",
    "# load img in correct format for model\n",
    "_img = preprocess_xception(image.img_to_array(image.load_img(test_img_path, target_size = (299,299))))\n",
    "_img = np.stack([_img])"
   ]
  },
  {
   "cell_type": "code",
   "execution_count": 244,
   "metadata": {
    "ExecuteTime": {
     "end_time": "2018-06-29T07:20:55.801895Z",
     "start_time": "2018-06-29T07:20:55.739383Z"
    }
   },
   "outputs": [
    {
     "data": {
      "text/plain": [
       "array([[  4.88157e-05,   9.99951e-01]], dtype=float32)"
      ]
     },
     "execution_count": 244,
     "metadata": {},
     "output_type": "execute_result"
    }
   ],
   "source": [
    "_preds = model.predict(_img)\n",
    "_preds"
   ]
  },
  {
   "cell_type": "markdown",
   "metadata": {},
   "source": [
    "# Precompute model activation outputs to use to then train LSTM"
   ]
  },
  {
   "cell_type": "markdown",
   "metadata": {},
   "source": [
    "> inspired by https://github.com/harvitronix/five-video-classification-methods"
   ]
  },
  {
   "cell_type": "markdown",
   "metadata": {},
   "source": [
    "## can re-use same base model"
   ]
  },
  {
   "cell_type": "code",
   "execution_count": 248,
   "metadata": {
    "ExecuteTime": {
     "end_time": "2018-06-29T07:33:25.495786Z",
     "start_time": "2018-06-29T07:33:25.430551Z"
    },
    "collapsed": true
   },
   "outputs": [],
   "source": [
    "ft_map = base_model.get_layer(index=-2).output\n",
    "\n",
    "x = Conv2D(128, (3,3), padding='same')(ft_map)\n",
    "\n",
    "x = BatchNormalization()(x)\n",
    "x = Flatten()(x)\n",
    "\n",
    "# model_top.add(Dense(len(np.unique(train_labels)), activation='softmax'))\n",
    "# x = Dense(64, activation='relu')(x)\n",
    "# predictions = Dense(10, activation='softmax')(x)\n",
    "\n",
    "model_activations = Model(base_model.input, x)"
   ]
  },
  {
   "cell_type": "markdown",
   "metadata": {},
   "source": [
    "## demo using model_activations"
   ]
  },
  {
   "cell_type": "code",
   "execution_count": 246,
   "metadata": {
    "ExecuteTime": {
     "end_time": "2018-06-29T07:21:40.905262Z",
     "start_time": "2018-06-29T07:21:40.199604Z"
    }
   },
   "outputs": [
    {
     "name": "stdout",
     "output_type": "stream",
     "text": [
      "first 5 activations out of 12800 activations:\n",
      "[0.36766583, -1.964093, -0.34563956, 1.9563526, 0.36980361]\n"
     ]
    }
   ],
   "source": [
    "# run img through model and get activations\n",
    "activations = model_activations.predict(_img)\n",
    "activations = list(activations[0])\n",
    "\n",
    "print (\"first 5 activations out of {} activations:\".format(len(activations)))\n",
    "print (activations[0:5])"
   ]
  },
  {
   "cell_type": "code",
   "execution_count": 262,
   "metadata": {
    "ExecuteTime": {
     "end_time": "2018-06-29T07:41:28.973787Z",
     "start_time": "2018-06-29T07:41:28.970219Z"
    },
    "collapsed": true
   },
   "outputs": [],
   "source": [
    "batch_size = 128"
   ]
  },
  {
   "cell_type": "code",
   "execution_count": 263,
   "metadata": {
    "ExecuteTime": {
     "end_time": "2018-06-29T07:41:30.644030Z",
     "start_time": "2018-06-29T07:41:30.120033Z"
    }
   },
   "outputs": [
    {
     "name": "stdout",
     "output_type": "stream",
     "text": [
      "Found 9056 images belonging to 2 classes.\n",
      "Found 792 images belonging to 2 classes.\n",
      "Found 2610 images belonging to 2 classes.\n"
     ]
    }
   ],
   "source": [
    "# define data load generators - apply transformations to distort training images (effectively creates more data)\n",
    "train_gen = ImageDataGenerator(\n",
    "    horizontal_flip=True,\n",
    "    width_shift_range=0.05,\n",
    "    height_shift_range=0.1,\n",
    "    preprocessing_function=preprocess_xception\n",
    ")\n",
    "\n",
    "test_gen = ImageDataGenerator(\n",
    "    preprocessing_function=preprocess_xception\n",
    ")\n",
    "\n",
    "# create objects that allow us to fetch data in batches\n",
    "train_batches = train_gen.flow_from_directory(\n",
    "    path_data_train,\n",
    "    batch_size=batch_size,\n",
    "    target_size = (img_width, img_height),\n",
    "    class_mode='binary'\n",
    ")\n",
    "\n",
    "valid_batches = test_gen.flow_from_directory(\n",
    "    path_data_valid,\n",
    "    batch_size=batch_size,\n",
    "    target_size = (img_width, img_height),\n",
    "    shuffle=False,\n",
    "    class_mode='binary'\n",
    ")\n",
    "\n",
    "test_batches = test_gen.flow_from_directory(\n",
    "    path_data_test,\n",
    "    batch_size=batch_size,\n",
    "    target_size = (img_width, img_height),\n",
    "    shuffle=False,\n",
    "    class_mode='binary'\n",
    ")"
   ]
  },
  {
   "cell_type": "code",
   "execution_count": 264,
   "metadata": {
    "ExecuteTime": {
     "end_time": "2018-06-29T07:41:31.667037Z",
     "start_time": "2018-06-29T07:41:31.661573Z"
    }
   },
   "outputs": [
    {
     "data": {
      "text/plain": [
       "{0: 'noseal', 1: 'seal'}"
      ]
     },
     "execution_count": 264,
     "metadata": {},
     "output_type": "execute_result"
    }
   ],
   "source": [
    "mapping = train_batches.class_indices\n",
    "mapping_inv = {v: k for k, v in mapping.items()}\n",
    "mapping_inv"
   ]
  },
  {
   "cell_type": "code",
   "execution_count": 588,
   "metadata": {
    "ExecuteTime": {
     "end_time": "2018-06-29T12:18:00.187821Z",
     "start_time": "2018-06-29T12:18:00.174381Z"
    }
   },
   "outputs": [
    {
     "name": "stdout",
     "output_type": "stream",
     "text": [
      "train: 9058 ... seal: 2996 noseal: 6062\n",
      "valid: 792 ... seal: 402 noseal: 390\n"
     ]
    }
   ],
   "source": [
    "nb_train_seal = len(os.listdir(path_data_train + '/seal/'))\n",
    "nb_train_noseal = len(os.listdir(path_data_train + '/noseal/'))\n",
    "#\n",
    "nb_valid_seal = len(os.listdir(path_data_valid + '/seal/'))\n",
    "nb_valid_noseal = len(os.listdir(path_data_valid + '/noseal/'))\n",
    "#\n",
    "nb_train_samples = nb_train_seal + nb_train_noseal\n",
    "nb_valid_samples = nb_valid_seal + nb_valid_noseal\n",
    "#\n",
    "print (\"train: {} ... seal: {} noseal: {}\".format(nb_train_samples, nb_train_seal, nb_train_noseal))\n",
    "print (\"valid: {} ... seal: {} noseal: {}\".format(nb_valid_samples, nb_valid_seal, nb_valid_noseal))      "
   ]
  },
  {
   "cell_type": "code",
   "execution_count": 589,
   "metadata": {
    "ExecuteTime": {
     "end_time": "2018-06-29T12:18:00.642462Z",
     "start_time": "2018-06-29T12:18:00.344863Z"
    }
   },
   "outputs": [
    {
     "name": "stdout",
     "output_type": "stream",
     "text": [
      "opening previously computed bottleneck features from file: TRAIN\n"
     ]
    }
   ],
   "source": [
    "### BOTTLENECK FEATURES: TRAIN \n",
    "if os.path.exists(path_models + 'seals_bottleneck_features_train.npy'):\n",
    "    print(\"opening previously computed bottleneck features from file: TRAIN\")\n",
    "    train_data = np.load(open(path_models + 'seals_bottleneck_features_train.npy', 'rb'))\n",
    "else:\n",
    "    print(\"Computing bottleneck features: TRAIN\")\n",
    "    train_data = model_activations.predict_generator(train_batches, train_batches.n//batch_size, verbose = 1)\n",
    "    np.save(open(path_models + 'seals_bottleneck_features_train.npy', 'wb'), train_data)\n",
    "\n",
    "# split out labels\n",
    "train_labels = np.array([(1,0)] * nb_train_seal + [(0,1)] * nb_train_noseal)"
   ]
  },
  {
   "cell_type": "code",
   "execution_count": 590,
   "metadata": {
    "ExecuteTime": {
     "end_time": "2018-06-29T12:18:00.678411Z",
     "start_time": "2018-06-29T12:18:00.644334Z"
    }
   },
   "outputs": [
    {
     "name": "stdout",
     "output_type": "stream",
     "text": [
      "opening previously computed bottleneck features from file: TEST\n"
     ]
    }
   ],
   "source": [
    "### BOTTLENECK FEATURES: TEST \n",
    "if os.path.exists(path_models + 'seals_bottleneck_features_test.npy'):\n",
    "    print(\"opening previously computed bottleneck features from file: TEST\")\n",
    "    validation_data = np.load(open(path_models + 'seals_bottleneck_features_test.npy', 'rb'))\n",
    "else:\n",
    "    print(\"Computing bottleneck features: TEST\")\n",
    "    validation_data = model_activations.predict_generator(valid_batches, valid_batches.n/batch_size, verbose = 1)\n",
    "    np.save(open(path_models + 'seals_bottleneck_features_test.npy', 'wb'), validation_data)\n",
    "\n",
    "# split out labels\n",
    "validation_labels = np.array([(1,0)] * nb_valid_seal + [(0,1)] * nb_valid_noseal)"
   ]
  },
  {
   "cell_type": "code",
   "execution_count": 591,
   "metadata": {
    "ExecuteTime": {
     "end_time": "2018-06-29T12:18:00.683650Z",
     "start_time": "2018-06-29T12:18:00.680239Z"
    },
    "collapsed": true
   },
   "outputs": [],
   "source": [
    "# batching may lead to dropping off last few rows if sample size not divisible by batch size \n",
    "# this fix is ghetto but works\n",
    "train_labels = train_labels[:len(train_data),:]\n",
    "validation_labels = validation_labels[:len(validation_data),:]"
   ]
  },
  {
   "cell_type": "code",
   "execution_count": 592,
   "metadata": {
    "ExecuteTime": {
     "end_time": "2018-06-29T12:18:00.785881Z",
     "start_time": "2018-06-29T12:18:00.783021Z"
    },
    "collapsed": true
   },
   "outputs": [],
   "source": [
    "# # # reshape\n",
    "# train_data = np.expand_dims(train_data, axis=0)\n",
    "# validation_data = np.expand_dims(validation_data, axis=0)"
   ]
  },
  {
   "cell_type": "code",
   "execution_count": 593,
   "metadata": {
    "ExecuteTime": {
     "end_time": "2018-06-29T12:18:00.901087Z",
     "start_time": "2018-06-29T12:18:00.895215Z"
    }
   },
   "outputs": [
    {
     "data": {
      "text/plain": [
       "((9056, 12800), (9056, 2))"
      ]
     },
     "execution_count": 593,
     "metadata": {},
     "output_type": "execute_result"
    }
   ],
   "source": [
    "train_data.shape, train_labels.shape"
   ]
  },
  {
   "cell_type": "code",
   "execution_count": 594,
   "metadata": {
    "ExecuteTime": {
     "end_time": "2018-06-29T12:18:01.629859Z",
     "start_time": "2018-06-29T12:18:01.624455Z"
    }
   },
   "outputs": [
    {
     "data": {
      "text/plain": [
       "((792, 12800), (792, 2))"
      ]
     },
     "execution_count": 594,
     "metadata": {},
     "output_type": "execute_result"
    }
   ],
   "source": [
    "validation_data.shape, validation_labels.shape"
   ]
  },
  {
   "cell_type": "markdown",
   "metadata": {},
   "source": [
    "> reshape for LSTM"
   ]
  },
  {
   "cell_type": "code",
   "execution_count": 595,
   "metadata": {
    "ExecuteTime": {
     "end_time": "2018-06-29T12:18:07.655184Z",
     "start_time": "2018-06-29T12:18:07.652107Z"
    },
    "collapsed": true
   },
   "outputs": [],
   "source": [
    "features_length = 12800\n",
    "seq_length = 10"
   ]
  },
  {
   "cell_type": "code",
   "execution_count": 596,
   "metadata": {
    "ExecuteTime": {
     "end_time": "2018-06-29T12:18:11.430801Z",
     "start_time": "2018-06-29T12:18:08.841042Z"
    }
   },
   "outputs": [],
   "source": [
    "x_train = []\n",
    "\n",
    "for i in range(len(train_data)):\n",
    "    if i >seq_length:\n",
    "#         print(i)\n",
    "        new = train_data[i:seq_length + i,:]\n",
    "        if new.shape[0] == seq_length:\n",
    "            x_train.append(new)\n",
    "            \n",
    "x_train = np.stack(x_train, axis=0)"
   ]
  },
  {
   "cell_type": "code",
   "execution_count": 597,
   "metadata": {
    "ExecuteTime": {
     "end_time": "2018-06-29T12:18:11.655495Z",
     "start_time": "2018-06-29T12:18:11.432620Z"
    }
   },
   "outputs": [],
   "source": [
    "x_valid = []\n",
    "\n",
    "for i in range(len(validation_data)):\n",
    "    if i >seq_length:\n",
    "        new = validation_data[i:seq_length + i,:]\n",
    "        if new.shape[0] == seq_length:\n",
    "            x_valid.append(new)\n",
    "            \n",
    "x_valid = np.stack(x_valid, axis=0)"
   ]
  },
  {
   "cell_type": "code",
   "execution_count": 598,
   "metadata": {
    "ExecuteTime": {
     "end_time": "2018-06-29T12:18:11.660872Z",
     "start_time": "2018-06-29T12:18:11.657481Z"
    },
    "collapsed": true
   },
   "outputs": [],
   "source": [
    "train_labels = train_labels[seq_length:len(train_labels)-seq_length,:]\n",
    "validation_labels = validation_labels[seq_length:len(validation_labels)-seq_length,:]"
   ]
  },
  {
   "cell_type": "code",
   "execution_count": 599,
   "metadata": {
    "ExecuteTime": {
     "end_time": "2018-06-29T12:18:11.667983Z",
     "start_time": "2018-06-29T12:18:11.662592Z"
    }
   },
   "outputs": [
    {
     "data": {
      "text/plain": [
       "(9036, 2)"
      ]
     },
     "execution_count": 599,
     "metadata": {},
     "output_type": "execute_result"
    }
   ],
   "source": [
    "train_labels.shape"
   ]
  },
  {
   "cell_type": "code",
   "execution_count": 600,
   "metadata": {
    "ExecuteTime": {
     "end_time": "2018-06-29T12:18:11.673938Z",
     "start_time": "2018-06-29T12:18:11.669754Z"
    }
   },
   "outputs": [
    {
     "data": {
      "text/plain": [
       "((772, 10, 12800), (772, 2))"
      ]
     },
     "execution_count": 600,
     "metadata": {},
     "output_type": "execute_result"
    }
   ],
   "source": [
    "x_valid.shape, validation_labels.shape"
   ]
  },
  {
   "cell_type": "code",
   "execution_count": 614,
   "metadata": {
    "ExecuteTime": {
     "end_time": "2018-06-29T12:26:28.252524Z",
     "start_time": "2018-06-29T12:26:25.372490Z"
    },
    "collapsed": true
   },
   "outputs": [],
   "source": [
    "# shuffle transormed training data now that it's batched into sequences of frames\n",
    "from sklearn.utils import shuffle\n",
    "x_train, train_labels = shuffle(x_train,train_labels)"
   ]
  },
  {
   "cell_type": "code",
   "execution_count": 626,
   "metadata": {
    "ExecuteTime": {
     "end_time": "2018-06-29T12:28:34.808584Z",
     "start_time": "2018-06-29T12:28:34.804679Z"
    },
    "collapsed": true
   },
   "outputs": [],
   "source": [
    "batch_size = 128"
   ]
  },
  {
   "cell_type": "code",
   "execution_count": 627,
   "metadata": {
    "ExecuteTime": {
     "end_time": "2018-06-29T12:28:35.003076Z",
     "start_time": "2018-06-29T12:28:34.999755Z"
    },
    "collapsed": true
   },
   "outputs": [],
   "source": [
    "model_name = 'LSTM_Xception'"
   ]
  },
  {
   "cell_type": "code",
   "execution_count": 632,
   "metadata": {
    "ExecuteTime": {
     "end_time": "2018-06-29T12:30:22.853788Z",
     "start_time": "2018-06-29T12:30:22.422090Z"
    }
   },
   "outputs": [],
   "source": [
    "model_LSTM = Sequential()\n",
    "model_LSTM.add(LSTM(256, return_sequences=False,\n",
    "               input_shape=(seq_length, features_length),\n",
    "               dropout=0.3))\n",
    "model_LSTM.add(Dense(128, activation='relu'))\n",
    "model_LSTM.add(Dropout(0.3))\n",
    "model_LSTM.add(Dense(train_batches.num_class, activation='softmax'))"
   ]
  },
  {
   "cell_type": "code",
   "execution_count": 633,
   "metadata": {
    "ExecuteTime": {
     "end_time": "2018-06-29T12:30:23.730479Z",
     "start_time": "2018-06-29T12:30:23.691944Z"
    }
   },
   "outputs": [],
   "source": [
    "model_LSTM.compile(loss='binary_crossentropy',\n",
    "              optimizer='adam',\n",
    "              metrics=['accuracy'])"
   ]
  },
  {
   "cell_type": "code",
   "execution_count": null,
   "metadata": {
    "ExecuteTime": {
     "start_time": "2018-06-29T12:30:24.434Z"
    }
   },
   "outputs": [
    {
     "name": "stderr",
     "output_type": "stream",
     "text": [
      "/home/ec2-user/anaconda3/lib/python3.6/site-packages/keras/models.py:848: UserWarning: The `nb_epoch` argument in `fit` has been renamed `epochs`.\n",
      "  warnings.warn('The `nb_epoch` argument in `fit` '\n"
     ]
    },
    {
     "name": "stdout",
     "output_type": "stream",
     "text": [
      "Train on 9036 samples, validate on 772 samples\n",
      "Epoch 1/5\n",
      "9036/9036 [==============================] - 14s - loss: 0.6581 - acc: 0.6625 - val_loss: 0.7521 - val_acc: 0.4922\n",
      "Epoch 2/5\n",
      "9036/9036 [==============================] - 11s - loss: 0.6375 - acc: 0.6697 - val_loss: 0.7411 - val_acc: 0.4922\n",
      "Epoch 3/5\n",
      "9036/9036 [==============================] - 11s - loss: 0.6388 - acc: 0.6698 - val_loss: 0.7719 - val_acc: 0.4922\n",
      "Epoch 4/5\n",
      "8448/9036 [===========================>..] - ETA: 0s - loss: 0.6368 - acc: 0.6684"
     ]
    }
   ],
   "source": [
    "# define keras model checkpointer to save best model (highets val_acc)\n",
    "checkpointer = ModelCheckpoint(path_models + model_name + '_BEST_.hdf5', \n",
    "                                monitor='val_acc', \n",
    "                                save_best_only=True,\n",
    "                                save_weights_only=True)\n",
    "\n",
    "#model.load_weights('video_1_LSTM_1_512.h5')\n",
    "model_LSTM.fit(x_train,train_labels,\n",
    "          validation_data=(x_valid,validation_labels),\n",
    "          batch_size=batch_size,\n",
    "          nb_epoch=5,\n",
    "          callbacks=[checkpointer],\n",
    "          shuffle=True,\n",
    "          verbose=1)"
   ]
  },
  {
   "cell_type": "code",
   "execution_count": null,
   "metadata": {
    "ExecuteTime": {
     "start_time": "2018-06-29T12:28:35.758Z"
    },
    "collapsed": true
   },
   "outputs": [],
   "source": [
    "model_LSTM.save_weights(path_models + model_name + '_BEST_.hdf5')"
   ]
  },
  {
   "cell_type": "markdown",
   "metadata": {
    "heading_collapsed": true
   },
   "source": [
    "# Evaluate models"
   ]
  },
  {
   "cell_type": "markdown",
   "metadata": {
    "hidden": true
   },
   "source": [
    "## predict on validation set"
   ]
  },
  {
   "cell_type": "code",
   "execution_count": 87,
   "metadata": {
    "ExecuteTime": {
     "end_time": "2018-06-29T01:50:28.936605Z",
     "start_time": "2018-06-29T01:50:28.933583Z"
    },
    "collapsed": true,
    "hidden": true
   },
   "outputs": [],
   "source": [
    "from PIL import Image"
   ]
  },
  {
   "cell_type": "code",
   "execution_count": 90,
   "metadata": {
    "ExecuteTime": {
     "end_time": "2018-06-29T01:50:50.226120Z",
     "start_time": "2018-06-29T01:50:50.193656Z"
    },
    "hidden": true,
    "scrolled": true
   },
   "outputs": [
    {
     "name": "stdout",
     "output_type": "stream",
     "text": [
      "/mnt/data/seals/data/images/valid/noseal/ich1_1035-0285.jpeg\n"
     ]
    },
    {
     "ename": "TypeError",
     "evalue": "unsupported operand type(s) for /=: 'Image' and 'float'",
     "output_type": "error",
     "traceback": [
      "\u001b[0;31m---------------------------------------------------------------------------\u001b[0m",
      "\u001b[0;31mTypeError\u001b[0m                                 Traceback (most recent call last)",
      "\u001b[0;32m<ipython-input-90-64fed28c2a1b>\u001b[0m in \u001b[0;36m<module>\u001b[0;34m()\u001b[0m\n\u001b[1;32m     18\u001b[0m             \u001b[0mprint\u001b[0m\u001b[0;34m(\u001b[0m\u001b[0m_path\u001b[0m\u001b[0;34m)\u001b[0m\u001b[0;34m\u001b[0m\u001b[0m\n\u001b[1;32m     19\u001b[0m \u001b[0;34m\u001b[0m\u001b[0m\n\u001b[0;32m---> 20\u001b[0;31m             \u001b[0mimgs\u001b[0m\u001b[0;34m.\u001b[0m\u001b[0mappend\u001b[0m\u001b[0;34m(\u001b[0m\u001b[0minception_v3_preprocessor\u001b[0m\u001b[0;34m(\u001b[0m\u001b[0;34m(\u001b[0m\u001b[0mimage\u001b[0m\u001b[0;34m.\u001b[0m\u001b[0mload_img\u001b[0m\u001b[0;34m(\u001b[0m\u001b[0m_path\u001b[0m\u001b[0;34m,\u001b[0m \u001b[0mtarget_size\u001b[0m \u001b[0;34m=\u001b[0m \u001b[0;34m(\u001b[0m\u001b[0;36m299\u001b[0m\u001b[0;34m,\u001b[0m\u001b[0;36m299\u001b[0m\u001b[0;34m)\u001b[0m\u001b[0;34m)\u001b[0m\u001b[0;34m)\u001b[0m\u001b[0;34m)\u001b[0m\u001b[0;34m)\u001b[0m\u001b[0;34m\u001b[0m\u001b[0m\n\u001b[0m\u001b[1;32m     21\u001b[0m \u001b[0;34m\u001b[0m\u001b[0m\n\u001b[1;32m     22\u001b[0m             \u001b[0mlabel\u001b[0m \u001b[0;34m=\u001b[0m \u001b[0;36m1\u001b[0m\u001b[0;34m\u001b[0m\u001b[0m\n",
      "\u001b[0;32m/home/ec2-user/anaconda3/lib/python3.6/site-packages/keras/applications/inception_v3.py\u001b[0m in \u001b[0;36mpreprocess_input\u001b[0;34m(x)\u001b[0m\n\u001b[1;32m    389\u001b[0m \u001b[0;34m\u001b[0m\u001b[0m\n\u001b[1;32m    390\u001b[0m \u001b[0;32mdef\u001b[0m \u001b[0mpreprocess_input\u001b[0m\u001b[0;34m(\u001b[0m\u001b[0mx\u001b[0m\u001b[0;34m)\u001b[0m\u001b[0;34m:\u001b[0m\u001b[0;34m\u001b[0m\u001b[0m\n\u001b[0;32m--> 391\u001b[0;31m     \u001b[0mx\u001b[0m \u001b[0;34m/=\u001b[0m \u001b[0;36m255.\u001b[0m\u001b[0;34m\u001b[0m\u001b[0m\n\u001b[0m\u001b[1;32m    392\u001b[0m     \u001b[0mx\u001b[0m \u001b[0;34m-=\u001b[0m \u001b[0;36m0.5\u001b[0m\u001b[0;34m\u001b[0m\u001b[0m\n\u001b[1;32m    393\u001b[0m     \u001b[0mx\u001b[0m \u001b[0;34m*=\u001b[0m \u001b[0;36m2.\u001b[0m\u001b[0;34m\u001b[0m\u001b[0m\n",
      "\u001b[0;31mTypeError\u001b[0m: unsupported operand type(s) for /=: 'Image' and 'float'"
     ]
    }
   ],
   "source": [
    "labels_true = []\n",
    "imgs = []\n",
    "paths = []\n",
    "\n",
    "# debug\n",
    "cc = 0\n",
    "\n",
    "for root, dirs, files in os.walk(path_data_valid, topdown=False):\n",
    "    for name in files:\n",
    "\n",
    "        # debug\n",
    "        if cc < 100:\n",
    "            cc+=1\n",
    "        \n",
    "            _path = os.path.join(root, name)\n",
    "            paths.append(_path)\n",
    "\n",
    "            print(_path)\n",
    "            \n",
    "            imgs.append(inception_v3_preprocessor((image.load_img(_path, target_size = (299,299)))))\n",
    "\n",
    "            label = 1\n",
    "            if 'noseal' in _path:\n",
    "                label = 0\n",
    "\n",
    "            #print(_path, label_map[label], label)\n",
    "\n",
    "            labels_true.append(label)"
   ]
  },
  {
   "cell_type": "code",
   "execution_count": null,
   "metadata": {
    "ExecuteTime": {
     "end_time": "2018-03-29T12:36:55.202722Z",
     "start_time": "2018-03-29T12:36:52.609551Z"
    },
    "collapsed": true,
    "hidden": true
   },
   "outputs": [],
   "source": [
    "imgs = np.stack(imgs)\n",
    "preds = model.predict(imgs)"
   ]
  },
  {
   "cell_type": "code",
   "execution_count": null,
   "metadata": {
    "ExecuteTime": {
     "end_time": "2018-03-29T12:36:55.203797Z",
     "start_time": "2018-03-29T12:36:48.559Z"
    },
    "collapsed": true,
    "hidden": true
   },
   "outputs": [],
   "source": [
    "# calculate time taken to compute predictions\n",
    "pred_count = imgs.shape[0]\n",
    "time_taken = 69 #seconds\n",
    "print (\"Predictions per second: {}\".format(pred_count/time_taken))"
   ]
  },
  {
   "cell_type": "code",
   "execution_count": null,
   "metadata": {
    "ExecuteTime": {
     "end_time": "2018-03-29T12:36:03.774886Z",
     "start_time": "2018-03-29T12:36:03.763131Z"
    },
    "collapsed": true,
    "hidden": true
   },
   "outputs": [],
   "source": [
    "# note preds is just the 3 probabilities\n",
    "preds"
   ]
  },
  {
   "cell_type": "code",
   "execution_count": null,
   "metadata": {
    "ExecuteTime": {
     "end_time": "2018-03-29T12:36:12.259590Z",
     "start_time": "2018-03-29T12:36:12.225119Z"
    },
    "collapsed": true,
    "hidden": true
   },
   "outputs": [],
   "source": [
    "pred_labels = np.argmax(preds,axis = 1)\n",
    "\n",
    "dfp = pd.DataFrame(preds)\n",
    "dfp = pd.concat([dfp,pd.Series(pred_labels)], axis = 1)\n",
    "dfp = pd.concat([dfp,pd.Series(paths)], axis = 1)\n",
    "dfp.columns = ['p_accept','mild','hard','pred_label','filename']\n",
    "\n",
    "dfp['pred_label_name'] = dfp[\"pred_label\"].map(label_map)\n",
    "\n",
    "dfp['truth'] = pd.Series(labels_true)\n",
    "dfp['truth'] = dfp[\"truth\"].map(label_map)\n",
    "\n",
    "dfp['error'] = (dfp['pred_label_name'] != dfp['truth']).astype(int)"
   ]
  },
  {
   "cell_type": "code",
   "execution_count": null,
   "metadata": {
    "ExecuteTime": {
     "end_time": "2018-03-29T12:36:14.412509Z",
     "start_time": "2018-03-29T12:36:14.367199Z"
    },
    "collapsed": true,
    "hidden": true,
    "scrolled": true
   },
   "outputs": [],
   "source": [
    "dfp"
   ]
  },
  {
   "cell_type": "markdown",
   "metadata": {
    "heading_collapsed": true,
    "hidden": true
   },
   "source": [
    "## Plot confusion matrix"
   ]
  },
  {
   "cell_type": "markdown",
   "metadata": {
    "hidden": true
   },
   "source": [
    "### define function to make confusion matrix plot"
   ]
  },
  {
   "cell_type": "code",
   "execution_count": null,
   "metadata": {
    "ExecuteTime": {
     "end_time": "2017-12-19T04:12:15.561896Z",
     "start_time": "2017-12-19T04:12:15.540958Z"
    },
    "collapsed": true,
    "hidden": true
   },
   "outputs": [],
   "source": [
    "from sklearn.metrics import confusion_matrix\n",
    "import itertools\n",
    "\n",
    "def plot_confusion_matrix(cm, classes,\n",
    "                          normalize=False,\n",
    "                          title='Confusion matrix',\n",
    "                          cmap=plt.cm.Blues):\n",
    "    \"\"\"\n",
    "    This function prints and plots the confusion matrix.\n",
    "    Normalization can be applied by setting `normalize=True`.\n",
    "    \"\"\"\n",
    "    if normalize:\n",
    "        cm = cm.astype('float') / cm.sum(axis=1)[:, np.newaxis]\n",
    "        print(\"Normalized confusion matrix\")\n",
    "    else:\n",
    "        print('Confusion matrix, without normalization')\n",
    "\n",
    "    print(cm)\n",
    "\n",
    "    plt.imshow(cm, interpolation='nearest', cmap=cmap)\n",
    "    plt.title(title)\n",
    "    plt.colorbar()\n",
    "    tick_marks = np.arange(len(classes))\n",
    "    plt.xticks(tick_marks, classes, rotation=45)\n",
    "    plt.yticks(tick_marks, classes)\n",
    "\n",
    "    fmt = '.2f' if normalize else 'd'\n",
    "    thresh = cm.max() / 2.\n",
    "    for i, j in itertools.product(range(cm.shape[0]), range(cm.shape[1])):\n",
    "        plt.text(j, i, format(cm[i, j], fmt),\n",
    "                 horizontalalignment=\"center\",\n",
    "                 color=\"white\" if cm[i, j] > thresh else \"black\")\n",
    "\n",
    "    plt.tight_layout()\n",
    "    plt.ylabel('True label')\n",
    "    plt.xlabel('Predicted label')"
   ]
  },
  {
   "cell_type": "markdown",
   "metadata": {
    "hidden": true
   },
   "source": [
    "### plot confusion matrix"
   ]
  },
  {
   "cell_type": "code",
   "execution_count": null,
   "metadata": {
    "ExecuteTime": {
     "end_time": "2017-12-19T04:34:51.156094Z",
     "start_time": "2017-12-19T04:34:50.045317Z"
    },
    "collapsed": true,
    "hidden": true
   },
   "outputs": [],
   "source": [
    "# Compute confusion matrix\n",
    "cnf_matrix = confusion_matrix(labels_true, pred_labels)\n",
    "np.set_printoptions(precision=2)\n",
    "\n",
    "# Plot non-normalized confusion matrix\n",
    "plt.figure()\n",
    "plot_confusion_matrix(cnf_matrix, classes=list(label_map.values()),\n",
    "                      title='Confusion matrix, without normalization')\n",
    "\n",
    "# Plot normalized confusion matrix\n",
    "plt.figure()\n",
    "plot_confusion_matrix(cnf_matrix, classes=list(label_map.values()), normalize=True,\n",
    "                      title='Normalized confusion matrix')\n",
    "\n",
    "plt.show()"
   ]
  },
  {
   "cell_type": "markdown",
   "metadata": {
    "hidden": true
   },
   "source": [
    "**<font color='blue' size='14px'>Comment:</font>**\n",
    "\n",
    "* <font color='blue'> The \"confusion matrix\" above shows truth vs predictions for all 3 classes </font>\n",
    "\n",
    "\n",
    "* <font color='blue'> The first 3x3 block shows raw counts and the second normalized block shows proportions</font>\n",
    "\n",
    "\n",
    "* <font color='blue'> For example, 1% of images that *are* \"hard\" are labelled as \"accept\" and 10% of \"hard\" images are labelled as \"mild\"</font>\n",
    "\n",
    "\n",
    "* <font color='blue'> Bear in mind, we're using a majority threshold to predict classes i.e. predict hard if probability_hard > 1/3 ... we will tune this later to increase the hard class true positive rate (at the expense of more false positives)</font>"
   ]
  },
  {
   "cell_type": "markdown",
   "metadata": {
    "hidden": true
   },
   "source": [
    "## View examples of images the model got wrong"
   ]
  },
  {
   "cell_type": "code",
   "execution_count": null,
   "metadata": {
    "ExecuteTime": {
     "end_time": "2017-12-14T04:33:40.359679Z",
     "start_time": "2017-12-14T04:33:40.346057Z"
    },
    "collapsed": true,
    "hidden": true
   },
   "outputs": [],
   "source": [
    "def plot_pic_grid_files(filenames, add_title=True):\n",
    "    # set figsize\n",
    "    fig = plt.figure()\n",
    "    fig.set_size_inches((16,8))\n",
    "\n",
    "    plotted = 0\n",
    "\n",
    "    for c, r in enumerate(filenames):\n",
    "\n",
    "        # get path to image file \n",
    "        img_path_on_disk = r\n",
    "\n",
    "        if len(img_path_on_disk) > 0:    \n",
    "\n",
    "            if plotted < 10:\n",
    "\n",
    "                plotted+=1\n",
    "\n",
    "                # plotting 10 images\n",
    "                a = fig.add_subplot(2, 5, (plotted))\n",
    "                img= plt.imread(img_path_on_disk)\n",
    "                imgplot = a.imshow(img)\n",
    "                if add_title: \n",
    "                    a.set_title(r.split(\"/\").pop())\n",
    "\n",
    "                #print user_id, 'image plotted'\n",
    "        else:\n",
    "            # print user_id, 'no pic available'\n",
    "            pass"
   ]
  },
  {
   "cell_type": "markdown",
   "metadata": {
    "hidden": true
   },
   "source": [
    "### truth == \"hard\" but model predicted \"accept\" <-> FALSE NEGATIVE"
   ]
  },
  {
   "cell_type": "code",
   "execution_count": null,
   "metadata": {
    "ExecuteTime": {
     "end_time": "2017-12-14T04:33:42.822065Z",
     "start_time": "2017-12-14T04:33:41.747496Z"
    },
    "collapsed": true,
    "hidden": true
   },
   "outputs": [],
   "source": [
    "filenames = list(dfp[(dfp['truth'] == 'hard') & (dfp['pred_label_name'] == 'accept')].filename)\n",
    "plot_pic_grid_files(filenames[0:10])"
   ]
  },
  {
   "cell_type": "code",
   "execution_count": null,
   "metadata": {
    "ExecuteTime": {
     "end_time": "2017-12-14T04:29:45.253588Z",
     "start_time": "2017-12-14T04:29:45.249681Z"
    },
    "collapsed": true,
    "hidden": true
   },
   "outputs": [],
   "source": [
    "filenames"
   ]
  },
  {
   "cell_type": "markdown",
   "metadata": {
    "hidden": true
   },
   "source": [
    "### truth == \"accept\" but model predicted \"hard\" <-> FALSE POSITIVE"
   ]
  },
  {
   "cell_type": "code",
   "execution_count": null,
   "metadata": {
    "ExecuteTime": {
     "end_time": "2017-12-14T04:29:46.957950Z",
     "start_time": "2017-12-14T04:29:45.255258Z"
    },
    "collapsed": true,
    "hidden": true
   },
   "outputs": [],
   "source": [
    "filenames = list(dfp[(dfp['truth'] == 'accept') & (dfp['pred_label_name'] == 'hard')].filename)\n",
    "plot_pic_grid_files(filenames[0:10])"
   ]
  },
  {
   "cell_type": "code",
   "execution_count": null,
   "metadata": {
    "ExecuteTime": {
     "end_time": "2017-12-14T04:29:46.964011Z",
     "start_time": "2017-12-14T04:29:46.959834Z"
    },
    "collapsed": true,
    "hidden": true
   },
   "outputs": [],
   "source": [
    "filenames"
   ]
  },
  {
   "cell_type": "markdown",
   "metadata": {
    "hidden": true
   },
   "source": [
    "### truth == \"hard\" but model predicted \"mild\" <-> SEMI-FALSE NEGATIVE"
   ]
  },
  {
   "cell_type": "code",
   "execution_count": null,
   "metadata": {
    "ExecuteTime": {
     "end_time": "2017-12-14T04:35:58.577082Z",
     "start_time": "2017-12-14T04:35:56.502180Z"
    },
    "collapsed": true,
    "hidden": true
   },
   "outputs": [],
   "source": [
    "filenames = list(dfp[(dfp['truth'] == 'hard') & (dfp['pred_label_name'] == 'mild')].filename)\n",
    "plot_pic_grid_files(filenames[0:10])"
   ]
  },
  {
   "cell_type": "code",
   "execution_count": null,
   "metadata": {
    "ExecuteTime": {
     "end_time": "2017-12-14T04:36:03.756269Z",
     "start_time": "2017-12-14T04:36:01.325615Z"
    },
    "collapsed": true,
    "hidden": true
   },
   "outputs": [],
   "source": [
    "plot_pic_grid_files(filenames[10:20])"
   ]
  },
  {
   "cell_type": "markdown",
   "metadata": {
    "heading_collapsed": true,
    "hidden": true
   },
   "source": [
    "## Plot probability densities for each of the 3 truth classes"
   ]
  },
  {
   "cell_type": "code",
   "execution_count": null,
   "metadata": {
    "ExecuteTime": {
     "end_time": "2017-12-14T05:10:03.924300Z",
     "start_time": "2017-12-14T05:10:03.921502Z"
    },
    "collapsed": true,
    "hidden": true
   },
   "outputs": [],
   "source": [
    "# TODO"
   ]
  },
  {
   "cell_type": "code",
   "execution_count": null,
   "metadata": {
    "ExecuteTime": {
     "end_time": "2017-12-14T06:13:38.559208Z",
     "start_time": "2017-12-14T06:13:38.546501Z"
    },
    "collapsed": true,
    "hidden": true
   },
   "outputs": [],
   "source": [
    "# we've already got the prediction probabilities in a dataframe\n",
    "# let's drop the preds done using majority labelling and first plot the densities then do an ROC plot and optimize the probability_hard cutoff\n",
    "del dfp['pred_label_name']\n",
    "del dfp['error']\n",
    "dfp.columns = ['prob_accept', 'prob_mild', 'prob_hard', 'pred_label', 'filename', 'truth']\n",
    "\n",
    "dfp.head()"
   ]
  },
  {
   "cell_type": "code",
   "execution_count": null,
   "metadata": {
    "ExecuteTime": {
     "start_time": "2017-12-14T06:20:05.686Z"
    },
    "collapsed": true,
    "hidden": true
   },
   "outputs": [],
   "source": [
    "fig, ax = plt.subplots(figsize=(20,10), ncols=3, nrows=1)\n",
    "\n",
    "# The amount of space above titles\n",
    "y_title_margin = 1\n",
    "\n",
    "ax[0].set_title(\"Accept\", y = y_title_margin)\n",
    "ax[1].set_title(\"Mild\", y = y_title_margin)\n",
    "ax[2].set_title(\"Hard\", y = y_title_margin)\n",
    "\n",
    "plt.suptitle(\"Predicted class probabilities subset by truth label in validation set\", y = 1.05, fontsize=20)\n",
    "\n",
    "### ACCEPT\n",
    "sns.swarmplot(dfp[dfp['truth'] == 'accept']['prob_accept'], ax = ax[0])\n",
    "sns.swarmplot(dfp[dfp['truth'] == 'accept']['prob_mild'], ax = ax[0])\n",
    "sns.swarmplot(dfp[dfp['truth'] == 'accept']['prob_hard'], ax = ax[0])\n",
    "\n",
    "### MILD\n",
    "sns.swarmplot(dfp[dfp['truth'] == 'mild']['prob_accept'], ax = ax[1])\n",
    "sns.swarmplot(dfp[dfp['truth'] == 'mild']['prob_mild'], ax = ax[1])\n",
    "sns.swarmplot(dfp[dfp['truth'] == 'mild']['prob_hard'], ax = ax[1])\n",
    "\n",
    "### HARD\n",
    "sns.swarmplot(dfp[dfp['truth'] == 'hard']['prob_accept'], ax = ax[2])\n",
    "sns.swarmplot(dfp[dfp['truth'] == 'hard']['prob_mild'], ax = ax[2])\n",
    "sns.swarmplot(dfp[dfp['truth'] == 'hard']['prob_hard'], ax = ax[2])"
   ]
  },
  {
   "cell_type": "code",
   "execution_count": null,
   "metadata": {
    "collapsed": true,
    "hidden": true
   },
   "outputs": [],
   "source": []
  },
  {
   "cell_type": "markdown",
   "metadata": {},
   "source": [
    "# Plot ROC curve"
   ]
  },
  {
   "cell_type": "code",
   "execution_count": null,
   "metadata": {
    "ExecuteTime": {
     "end_time": "2017-12-19T04:00:59.389390Z",
     "start_time": "2017-12-19T04:00:59.386332Z"
    },
    "collapsed": true
   },
   "outputs": [],
   "source": [
    "from sklearn.metrics import roc_curve, auc"
   ]
  },
  {
   "cell_type": "code",
   "execution_count": null,
   "metadata": {
    "ExecuteTime": {
     "end_time": "2017-12-19T04:00:59.399189Z",
     "start_time": "2017-12-19T04:00:59.391701Z"
    },
    "collapsed": true
   },
   "outputs": [],
   "source": [
    "# join mild and accept into 1 class so ROC curve plots hard vs non-hard reject\n",
    "labels_true_bin = labels_true\n",
    "labels_true_bin = np.array(labels_true_bin)\n",
    "labels_true_bin[labels_true_bin == 2] = 0\n",
    "\n",
    "pred_labels_bin = pred_labels\n",
    "pred_labels_bin = np.array(pred_labels_bin)\n",
    "pred_labels_bin[pred_labels_bin == 2] = 0"
   ]
  },
  {
   "cell_type": "code",
   "execution_count": null,
   "metadata": {
    "ExecuteTime": {
     "end_time": "2017-12-19T04:00:59.406731Z",
     "start_time": "2017-12-19T04:00:59.401149Z"
    },
    "collapsed": true
   },
   "outputs": [],
   "source": [
    "# Compute confusion matrix\n",
    "roc = roc_curve(labels_true_bin, pred_labels_bin)"
   ]
  },
  {
   "cell_type": "code",
   "execution_count": null,
   "metadata": {
    "ExecuteTime": {
     "end_time": "2017-12-19T04:00:59.765858Z",
     "start_time": "2017-12-19T04:00:59.408500Z"
    },
    "collapsed": true
   },
   "outputs": [],
   "source": [
    "fpr, tpr, threshold = roc_curve(labels_true_bin, pred_labels_bin)\n",
    "roc_auc = auc(fpr, tpr)\n",
    "\n",
    "# method I: plt\n",
    "import matplotlib.pyplot as plt\n",
    "plt.title('Receiver Operating Characteristic')\n",
    "plt.plot(fpr, tpr, 'b', label = 'AUC = %0.2f' % roc_auc)\n",
    "plt.legend(loc = 'lower right')\n",
    "plt.plot([0, 1], [0, 1],'r--')\n",
    "plt.xlim([0, 1])\n",
    "plt.ylim([0, 1])\n",
    "plt.ylabel('True Positive Rate')\n",
    "plt.xlabel('False Positive Rate')\n",
    "plt.show()"
   ]
  },
  {
   "cell_type": "code",
   "execution_count": null,
   "metadata": {
    "ExecuteTime": {
     "end_time": "2017-12-19T04:01:06.825943Z",
     "start_time": "2017-12-19T04:01:06.821711Z"
    },
    "collapsed": true
   },
   "outputs": [],
   "source": [
    "roc_cutoff = fpr[1]\n",
    "roc_cutoff"
   ]
  },
  {
   "cell_type": "markdown",
   "metadata": {
    "collapsed": true
   },
   "source": [
    "## Re-calculate Predictions using new hard class prediction cutoff"
   ]
  },
  {
   "cell_type": "code",
   "execution_count": null,
   "metadata": {
    "ExecuteTime": {
     "end_time": "2017-12-19T04:14:27.761621Z",
     "start_time": "2017-12-19T04:14:27.758729Z"
    },
    "collapsed": true
   },
   "outputs": [],
   "source": [
    "roc_cutoff = 0.15"
   ]
  },
  {
   "cell_type": "code",
   "execution_count": null,
   "metadata": {
    "ExecuteTime": {
     "end_time": "2017-12-19T04:46:53.855932Z",
     "start_time": "2017-12-19T04:46:53.840742Z"
    },
    "collapsed": true
   },
   "outputs": [],
   "source": [
    "# define function to get confusion matrix for variou cutoff values\n",
    "def get_cnf_matrix(roc_cutoff):\n",
    "    dfp2 = dfp.copy()\n",
    "\n",
    "    # predict hard if p_hard > roc_cutoff else predict majority between accept and mild\n",
    "    dfp2['pred_label_name'] = np.nan\n",
    "    dfp2['pred_label_name'] = np.where(dfp2['hard'] > roc_cutoff, 'hard', np.nan)\n",
    "\n",
    "    dfp2.loc[(dfp2['pred_label_name'] == 'nan') & (dfp2['p_accept'] > dfp2['mild']), 'pred_label_name'] = 'accept'\n",
    "    dfp2.loc[(dfp2['pred_label_name'] == 'nan') & (dfp2['p_accept'] <= dfp2['mild']), 'pred_label_name'] = 'mild'\n",
    "\n",
    "    cnf_matrix = confusion_matrix(list(dfp2['truth']), list(dfp2['pred_label_name']))\n",
    "\n",
    "    # accept mis-labelled as hard\n",
    "    false_positive = cnf_matrix[0,1] / (cnf_matrix[0,0] + cnf_matrix[0,1] + cnf_matrix[0,2])\n",
    "    # accept mis-labelled as hard\n",
    "    false_negative = cnf_matrix[1,0] / (cnf_matrix[1,0] + cnf_matrix[1,1] + cnf_matrix[1,2])\n",
    "    #\n",
    "    print (\"Cutoff: {} ... False positive: {}, False negative: {}\".format(roc_cutoff, round(false_positive,3), round(false_negative,3)))\n",
    "    \n",
    "    return cnf_matrix"
   ]
  },
  {
   "cell_type": "markdown",
   "metadata": {
    "ExecuteTime": {
     "end_time": "2017-12-19T04:32:15.253368Z",
     "start_time": "2017-12-19T04:32:15.248070Z"
    }
   },
   "source": [
    "> scan range of roc cutoffs and view fale positive / false negative trade-offs"
   ]
  },
  {
   "cell_type": "code",
   "execution_count": null,
   "metadata": {
    "ExecuteTime": {
     "end_time": "2017-12-19T04:34:20.789055Z",
     "start_time": "2017-12-19T04:34:20.464762Z"
    },
    "collapsed": true
   },
   "outputs": [],
   "source": [
    "for roc_cutoff in range(5,35,1):\n",
    "    get_cnf_matrix(roc_cutoff/100)"
   ]
  },
  {
   "cell_type": "markdown",
   "metadata": {
    "heading_collapsed": true
   },
   "source": [
    "## Plot confusion matrix using new cutoff"
   ]
  },
  {
   "cell_type": "code",
   "execution_count": null,
   "metadata": {
    "ExecuteTime": {
     "end_time": "2017-12-19T04:37:34.871150Z",
     "start_time": "2017-12-19T04:37:34.868112Z"
    },
    "collapsed": true,
    "hidden": true
   },
   "outputs": [],
   "source": [
    "roc_cutoff = 0.33"
   ]
  },
  {
   "cell_type": "code",
   "execution_count": null,
   "metadata": {
    "ExecuteTime": {
     "end_time": "2017-12-19T04:46:57.679768Z",
     "start_time": "2017-12-19T04:46:56.409491Z"
    },
    "collapsed": true,
    "hidden": true
   },
   "outputs": [],
   "source": [
    "# Compute confusion matrix\n",
    "#cnf_matrix = confusion_matrix(list(dfp2['truth']), list(dfp2['pred_label_name']))\n",
    "cnf_matrix = get_cnf_matrix(roc_cutoff)\n",
    "np.set_printoptions(precision=2)\n",
    "\n",
    "# Plot non-normalized confusion matrix\n",
    "plt.figure()\n",
    "plot_confusion_matrix(cnf_matrix, classes=list(label_map.values()),\n",
    "                      title='Confusion matrix, without normalization')\n",
    "\n",
    "# Plot normalized confusion matrix\n",
    "plt.figure()\n",
    "plot_confusion_matrix(cnf_matrix, classes=list(label_map.values()), normalize=True,\n",
    "                      title='Normalized confusion matrix')\n",
    "\n",
    "plt.show()"
   ]
  },
  {
   "cell_type": "code",
   "execution_count": null,
   "metadata": {
    "collapsed": true,
    "hidden": true
   },
   "outputs": [],
   "source": [
    "# pred_labels = np.argmax(preds,axis = 1)\n",
    "\n",
    "# dfp = pd.DataFrame(preds)\n",
    "# dfp = pd.concat([dfp,pd.Series(pred_labels)], axis = 1)\n",
    "# dfp = pd.concat([dfp,pd.Series(paths)], axis = 1)\n",
    "# dfp.columns = ['p_accept','mild','hard','pred_label','filename']\n",
    "\n",
    "# dfp['pred_label_name'] = dfp[\"pred_label\"].map(label_map)\n",
    "\n",
    "# dfp['truth'] = pd.Series(labels_true)\n",
    "# dfp['truth'] = dfp[\"truth\"].map(label_map)\n",
    "\n",
    "# dfp['error'] = (dfp['pred_label_name'] != dfp['truth']).astype(int)"
   ]
  },
  {
   "cell_type": "markdown",
   "metadata": {
    "heading_collapsed": true
   },
   "source": [
    "# ETC"
   ]
  },
  {
   "cell_type": "code",
   "execution_count": null,
   "metadata": {
    "ExecuteTime": {
     "end_time": "2018-03-29T11:47:48.657884Z",
     "start_time": "2018-03-29T11:44:56.713Z"
    },
    "collapsed": true,
    "hidden": true
   },
   "outputs": [],
   "source": [
    "# TODO"
   ]
  }
 ],
 "metadata": {
  "anaconda-cloud": {},
  "kernelspec": {
   "display_name": "Python 3",
   "language": "python",
   "name": "python3"
  },
  "language_info": {
   "codemirror_mode": {
    "name": "ipython",
    "version": 3
   },
   "file_extension": ".py",
   "mimetype": "text/x-python",
   "name": "python",
   "nbconvert_exporter": "python",
   "pygments_lexer": "ipython3",
   "version": "3.6.1"
  },
  "nav_menu": {},
  "nbpresent": {
   "slides": {
    "28b43202-5690-4169-9aca-6b9dabfeb3ec": {
     "id": "28b43202-5690-4169-9aca-6b9dabfeb3ec",
     "prev": null,
     "regions": {
      "3bba644a-cf4d-4a49-9fbd-e2554428cf9f": {
       "attrs": {
        "height": 0.8,
        "width": 0.8,
        "x": 0.1,
        "y": 0.1
       },
       "content": {
        "cell": "f3d3a388-7e2a-4151-9b50-c20498fceacc",
        "part": "whole"
       },
       "id": "3bba644a-cf4d-4a49-9fbd-e2554428cf9f"
      }
     }
    },
    "8104def2-4b68-44a0-8f1b-b03bf3b2a079": {
     "id": "8104def2-4b68-44a0-8f1b-b03bf3b2a079",
     "prev": "28b43202-5690-4169-9aca-6b9dabfeb3ec",
     "regions": {
      "7dded777-1ddf-4100-99ae-25cf1c15b575": {
       "attrs": {
        "height": 0.8,
        "width": 0.8,
        "x": 0.1,
        "y": 0.1
       },
       "content": {
        "cell": "fe47bd48-3414-4657-92e7-8b8d6cb0df00",
        "part": "whole"
       },
       "id": "7dded777-1ddf-4100-99ae-25cf1c15b575"
      }
     }
    }
   },
   "themes": {}
  },
  "toc": {
   "nav_menu": {
    "height": "148px",
    "width": "254px"
   },
   "navigate_menu": true,
   "number_sections": true,
   "sideBar": true,
   "threshold": 6,
   "toc_cell": false,
   "toc_section_display": "block",
   "toc_window_display": false
  }
 },
 "nbformat": 4,
 "nbformat_minor": 1
}
